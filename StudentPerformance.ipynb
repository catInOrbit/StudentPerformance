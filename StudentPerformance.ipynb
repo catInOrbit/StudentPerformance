{
  "nbformat": 4,
  "nbformat_minor": 0,
  "metadata": {
    "colab": {
      "name": "StudentPerformance.ipynb",
      "provenance": []
    },
    "kernelspec": {
      "name": "python3",
      "display_name": "Python 3"
    },
    "language_info": {
      "name": "python"
    }
  },
  "cells": [
    {
      "cell_type": "code",
      "execution_count": 17,
      "metadata": {
        "id": "3UBF8a3gBjnS"
      },
      "outputs": [],
      "source": [
        ""
      ]
    },
    {
      "cell_type": "markdown",
      "source": [
        "### Helper functions for data preprocessing"
      ],
      "metadata": {
        "id": "T9dT4yBNCHeZ"
      }
    },
    {
      "cell_type": "code",
      "source": [
        "import numpy as np\n",
        "import pandas as pd\n",
        "from sklearn.preprocessing import OneHotEncoder, LabelEncoder\n",
        "from scipy.stats import boxcox, normaltest\n",
        "from sklearn.preprocessing import MinMaxScaler\n",
        "def data_preprocessing(dataframe):\n",
        "    encoding_cols = dataframe.dtypes[dataframe.dtypes == object]  # Masking\n",
        "    encoding_cols = encoding_cols.index.tolist()\n",
        "\n",
        "    labelEnc, oneHotEncoder = LabelEncoder(), OneHotEncoder()\n",
        "    num_ohc_cols = (dataframe[encoding_cols].apply(lambda x: x.nunique()).sort_values(ascending=False))\n",
        "    data_encoded = dataframe.__deepcopy__()\n",
        "\n",
        "    for col in num_ohc_cols.index:\n",
        "        dat = labelEnc.fit_transform(data_encoded[col]).astype(int)\n",
        "        data_encoded = data_encoded.drop(col, axis=1)\n",
        "        new_encoded_data = oneHotEncoder.fit_transform(dat.reshape(-1, 1))\n",
        "\n",
        "        num_of_cols = new_encoded_data.shape[1]\n",
        "        col_names = ['_'.join([col, str(x)]) for x in range(num_of_cols)]\n",
        "\n",
        "        new_df = pd.DataFrame(new_encoded_data.toarray(), index=data_encoded.index, columns=col_names)\n",
        "        data_encoded = pd.concat([data_encoded, new_df], axis=1)\n",
        "\n",
        "\n",
        "    print(\"Encoded Dataframe: \", data_encoded)\n",
        "    print(data_encoded.columns)\n",
        "    print(data_encoded.info())\n",
        "    return data_encoded\n",
        "\n",
        "def normalizing(dataframe):\n",
        "    print(normaltest(dataframe.G3.values))\n",
        "    scaler = MinMaxScaler()\n",
        "    dataframe.iloc[:, -3:] = scaler.fit_transform(dataframe.iloc[:, -3:])\n",
        "    dataframe.loc[dataframe.G3 == 0, 'G3'] = 0.01\n",
        "\n",
        "    log_G3 = np.log(dataframe.G3)\n",
        "    log_G3 = log_G3.apply(np.abs)\n",
        "    print(normaltest(log_G3))\n",
        "    sqrt_G3 = np.sqrt(dataframe.G3)\n",
        "    print(normaltest(sqrt_G3))\n",
        "    boxcox_G3 = boxcox(dataframe.G3)\n",
        "    print(normaltest(boxcox_G3[0]))\n",
        "    dataframe.iloc[:, -1:] = boxcox_G3[0]\n",
        "\n",
        "    return dataframe"
      ],
      "metadata": {
        "id": "4x3yOSHmBycf"
      },
      "execution_count": 18,
      "outputs": []
    },
    {
      "cell_type": "markdown",
      "source": [
        "### Helper functions for visualization"
      ],
      "metadata": {
        "id": "kORjLoI8CONq"
      }
    },
    {
      "cell_type": "code",
      "source": [
        "import matplotlib.pyplot as plt\n",
        "\n",
        "def draw_boxplot_comparision(models,score_array):\n",
        "    fig = plt.figure()\n",
        "    fig.suptitle(\"Boxplot model comparison:\")\n",
        "    ax = fig.add_subplot()\n",
        "    ax.boxplot(score_array)\n",
        "    model_names = []\n",
        "    for model in models:\n",
        "        model_names.append(model[0])\n",
        "    ax.set_xticklabels(model_names, rotation=45)\n",
        "    plt.show()\n",
        "\n",
        "def draw_linear_comparision(model_name,features,actual_values, predicted_values):\n",
        "    fig = plt.figure()\n",
        "    fig.suptitle(\"R2 model comparison\")\n",
        "    ax = fig.add_subplot()\n",
        "    ax.set_title(model_name)\n",
        "    ax.plot(actual_values, predicted_values)\n",
        "    ax.scatter(features, actual_values)\n",
        "    plt.show()\n"
      ],
      "metadata": {
        "id": "I107BEymB_t6"
      },
      "execution_count": 19,
      "outputs": []
    },
    {
      "cell_type": "markdown",
      "source": [
        "### Model comparisons"
      ],
      "metadata": {
        "id": "dwU916KtCS8N"
      }
    },
    {
      "cell_type": "code",
      "source": [
        "import numpy as np\n",
        "from sklearn.linear_model import LinearRegression, Ridge, Lasso, ElasticNet\n",
        "from sklearn.metrics import r2_score\n",
        "from sklearn.model_selection import KFold, cross_val_score, GridSearchCV\n",
        "from sklearn.neighbors import KNeighborsRegressor\n",
        "from sklearn.pipeline import Pipeline\n",
        "from sklearn.svm import SVR\n",
        "from sklearn.tree import DecisionTreeRegressor\n",
        "\n",
        "def model_comparison(model_type, k_splits, data_features, target):\n",
        "    models_plain_reg = [(\"LiR\", LinearRegression())]\n",
        "    models_regularized_reg = [(\"Ridge\", Ridge()), (\"Las\", Lasso())]\n",
        "    models_other_reg = [(\"ENet\", ElasticNet()), (\"KNNR\", KNeighborsRegressor()), (\"CART\", DecisionTreeRegressor()), (\"SVR\", SVR())]\n",
        "\n",
        "    kfold = KFold(n_splits=k_splits)\n",
        "    params = {\n",
        "        'regularized_regression__alpha': np.geomspace(4, 20, 30)\n",
        "    }\n",
        "\n",
        "    result_scores = []\n",
        "    if model_type == \"RE_LE\":\n",
        "        for name, model in models_plain_reg:\n",
        "            result = cross_val_score(model, data_features, target, cv=kfold, scoring=\"r2\")\n",
        "            result_scores.append(result)\n",
        "            print(\"%s: %.3f (%.3f)\" % (name, result.mean(), result.std()))\n",
        "\n",
        "        draw_boxplot_comparision(models_plain_reg, result_scores)\n",
        "    elif model_type == \"RE_OT\":\n",
        "        for name, model in models_other_reg:\n",
        "            result = cross_val_score(model, data_features, target, cv=kfold, scoring=\"r2\")\n",
        "            result_scores.append(result)\n",
        "            print(\"%s: %.3f (%.3f)\" % (name, result.mean(), result.std()))\n",
        "\n",
        "        draw_boxplot_comparision(models_other_reg, result_scores)\n",
        "    elif model_type == \"RE_Reg\":\n",
        "        for name, model in models_regularized_reg:\n",
        "            estimator = Pipeline([(\"regularized_regression\", model)])\n",
        "            grid = GridSearchCV(estimator, params, cv=kfold)\n",
        "            grid_fit = grid.fit(data_features, target)\n",
        "            print(name, \"GridCV best score: \", grid.best_score_, \"GridCV best params: \", grid.best_params_)\n",
        "            y_predict = grid.predict(data_features)\n",
        "            score = r2_score(target, y_predict)\n",
        "            result_scores.append(score)\n",
        "            print(\"r2 score: \", score)\n"
      ],
      "metadata": {
        "id": "-znRcJKSBz4U"
      },
      "execution_count": 20,
      "outputs": []
    },
    {
      "cell_type": "markdown",
      "source": [
        "### Main .py file"
      ],
      "metadata": {
        "id": "05Z04wxFCVr2"
      }
    },
    {
      "cell_type": "code",
      "source": [
        "import pandas as pd\n",
        "import seaborn as sns\n",
        "import matplotlib.pyplot as plt\n",
        "data = pd.read_csv(\"/content/student-por.csv\", delimiter=\";\")\n",
        "\n",
        "data.G3.hist()\n",
        "plt.show()\n",
        "\n",
        "print(data.G3.unique())\n",
        "print(data.G3.value_counts())\n",
        "\n",
        "print(data.head())\n",
        "print(data.info())\n",
        "\n",
        "data = normalizing(data)\n",
        "\n",
        "data_encoded = data_preprocessing(data)\n",
        "feature_cols = [x for x in data_encoded.columns if x != \"G3\"]\n",
        "# sns.heatmap(data_encoded[feature_cols])\n",
        "plt.show()\n",
        "\n",
        "X_data = data_encoded[feature_cols]\n",
        "y_data = data_encoded[\"G3\"]\n",
        "\n",
        "model_comparison(\"RE_LE\", 10, X_data, y_data)\n"
      ],
      "metadata": {
        "colab": {
          "base_uri": "https://localhost:8080/",
          "height": 1000
        },
        "id": "tFrgNDIvCYQ_",
        "outputId": "3ebe6bf7-88e4-4513-97b6-c34ed00e09b9"
      },
      "execution_count": 21,
      "outputs": [
        {
          "output_type": "display_data",
          "data": {
            "image/png": "[encoded data removed]",
            "text/plain": [
              "<Figure size 432x288 with 1 Axes>"
            ]
          },
          "metadata": {
            "needs_background": "light"
          }
        },
        {
          "output_type": "stream",
          "name": "stdout",
          "text": [
            "[11 12 14 13 17 15  7 10 16  9  8 18  6  0  1  5 19]\n",
            "11    104\n",
            "10     97\n",
            "13     82\n",
            "12     72\n",
            "14     63\n",
            "15     49\n",
            "16     36\n",
            "9      35\n",
            "8      35\n",
            "17     29\n",
            "0      15\n",
            "18     15\n",
            "7      10\n",
            "6       3\n",
            "19      2\n",
            "5       1\n",
            "1       1\n",
            "Name: G3, dtype: int64\n",
            "  school sex  age address famsize Pstatus  ...  Walc  health absences  G1  G2  G3\n",
            "0     GP   F   18       U     GT3       A  ...     1       3        4   0  11  11\n",
            "1     GP   F   17       U     GT3       T  ...     1       3        2   9  11  11\n",
            "2     GP   F   15       U     LE3       T  ...     3       3        6  12  13  12\n",
            "3     GP   F   15       U     GT3       T  ...     1       5        0  14  14  14\n",
            "4     GP   F   16       U     GT3       T  ...     2       5        0  11  13  13\n",
            "\n",
            "[5 rows x 33 columns]\n",
            "<class 'pandas.core.frame.DataFrame'>\n",
            "RangeIndex: 649 entries, 0 to 648\n",
            "Data columns (total 33 columns):\n",
            " #   Column      Non-Null Count  Dtype \n",
            "---  ------      --------------  ----- \n",
            " 0   school      649 non-null    object\n",
            " 1   sex         649 non-null    object\n",
            " 2   age         649 non-null    int64 \n",
            " 3   address     649 non-null    object\n",
            " 4   famsize     649 non-null    object\n",
            " 5   Pstatus     649 non-null    object\n",
            " 6   Medu        649 non-null    int64 \n",
            " 7   Fedu        649 non-null    int64 \n",
            " 8   Mjob        649 non-null    object\n",
            " 9   Fjob        649 non-null    object\n",
            " 10  reason      649 non-null    object\n",
            " 11  guardian    649 non-null    object\n",
            " 12  traveltime  649 non-null    int64 \n",
            " 13  studytime   649 non-null    int64 \n",
            " 14  failures    649 non-null    int64 \n",
            " 15  schoolsup   649 non-null    object\n",
            " 16  famsup      649 non-null    object\n",
            " 17  paid        649 non-null    object\n",
            " 18  activities  649 non-null    object\n",
            " 19  nursery     649 non-null    object\n",
            " 20  higher      649 non-null    object\n",
            " 21  internet    649 non-null    object\n",
            " 22  romantic    649 non-null    object\n",
            " 23  famrel      649 non-null    int64 \n",
            " 24  freetime    649 non-null    int64 \n",
            " 25  goout       649 non-null    int64 \n",
            " 26  Dalc        649 non-null    int64 \n",
            " 27  Walc        649 non-null    int64 \n",
            " 28  health      649 non-null    int64 \n",
            " 29  absences    649 non-null    int64 \n",
            " 30  G1          649 non-null    int64 \n",
            " 31  G2          649 non-null    int64 \n",
            " 32  G3          649 non-null    int64 \n",
            "dtypes: int64(16), object(17)\n",
            "memory usage: 167.4+ KB\n",
            "None\n",
            "NormaltestResult(statistic=114.20475535916196, pvalue=1.5876416009730048e-25)\n",
            "NormaltestResult(statistic=689.209932795789, pvalue=2.187583590265529e-150)\n",
            "NormaltestResult(statistic=415.15199924886656, pvalue=7.093960853099479e-91)\n",
            "NormaltestResult(statistic=8.558602976285082, pvalue=0.013852334727919795)\n",
            "Encoded Dataframe:       age  Medu  Fedu  traveltime  ...  higher_0  higher_1  school_0  school_1\n",
            "0     18     4     4           2  ...       0.0       1.0       1.0       0.0\n",
            "1     17     1     1           1  ...       0.0       1.0       1.0       0.0\n",
            "2     15     1     1           1  ...       0.0       1.0       1.0       0.0\n",
            "3     15     4     2           1  ...       0.0       1.0       1.0       0.0\n",
            "4     16     3     3           1  ...       0.0       1.0       1.0       0.0\n",
            "..   ...   ...   ...         ...  ...       ...       ...       ...       ...\n",
            "644   19     2     3           1  ...       0.0       1.0       0.0       1.0\n",
            "645   18     3     1           1  ...       0.0       1.0       0.0       1.0\n",
            "646   18     1     1           2  ...       0.0       1.0       0.0       1.0\n",
            "647   17     3     1           2  ...       0.0       1.0       0.0       1.0\n",
            "648   18     3     2           3  ...       0.0       1.0       0.0       1.0\n",
            "\n",
            "[649 rows x 59 columns]\n",
            "Index(['age', 'Medu', 'Fedu', 'traveltime', 'studytime', 'failures', 'famrel',\n",
            "       'freetime', 'goout', 'Dalc', 'Walc', 'health', 'absences', 'G1', 'G2',\n",
            "       'G3', 'Mjob_0', 'Mjob_1', 'Mjob_2', 'Mjob_3', 'Mjob_4', 'Fjob_0',\n",
            "       'Fjob_1', 'Fjob_2', 'Fjob_3', 'Fjob_4', 'reason_0', 'reason_1',\n",
            "       'reason_2', 'reason_3', 'guardian_0', 'guardian_1', 'guardian_2',\n",
            "       'sex_0', 'sex_1', 'address_0', 'address_1', 'famsize_0', 'famsize_1',\n",
            "       'Pstatus_0', 'Pstatus_1', 'romantic_0', 'romantic_1', 'internet_0',\n",
            "       'internet_1', 'schoolsup_0', 'schoolsup_1', 'famsup_0', 'famsup_1',\n",
            "       'paid_0', 'paid_1', 'activities_0', 'activities_1', 'nursery_0',\n",
            "       'nursery_1', 'higher_0', 'higher_1', 'school_0', 'school_1'],\n",
            "      dtype='object')\n",
            "<class 'pandas.core.frame.DataFrame'>\n",
            "RangeIndex: 649 entries, 0 to 648\n",
            "Data columns (total 59 columns):\n",
            " #   Column        Non-Null Count  Dtype  \n",
            "---  ------        --------------  -----  \n",
            " 0   age           649 non-null    int64  \n",
            " 1   Medu          649 non-null    int64  \n",
            " 2   Fedu          649 non-null    int64  \n",
            " 3   traveltime    649 non-null    int64  \n",
            " 4   studytime     649 non-null    int64  \n",
            " 5   failures      649 non-null    int64  \n",
            " 6   famrel        649 non-null    int64  \n",
            " 7   freetime      649 non-null    int64  \n",
            " 8   goout         649 non-null    int64  \n",
            " 9   Dalc          649 non-null    int64  \n",
            " 10  Walc          649 non-null    int64  \n",
            " 11  health        649 non-null    int64  \n",
            " 12  absences      649 non-null    int64  \n",
            " 13  G1            649 non-null    float64\n",
            " 14  G2            649 non-null    float64\n",
            " 15  G3            649 non-null    float64\n",
            " 16  Mjob_0        649 non-null    float64\n",
            " 17  Mjob_1        649 non-null    float64\n",
            " 18  Mjob_2        649 non-null    float64\n",
            " 19  Mjob_3        649 non-null    float64\n",
            " 20  Mjob_4        649 non-null    float64\n",
            " 21  Fjob_0        649 non-null    float64\n",
            " 22  Fjob_1        649 non-null    float64\n",
            " 23  Fjob_2        649 non-null    float64\n",
            " 24  Fjob_3        649 non-null    float64\n",
            " 25  Fjob_4        649 non-null    float64\n",
            " 26  reason_0      649 non-null    float64\n",
            " 27  reason_1      649 non-null    float64\n",
            " 28  reason_2      649 non-null    float64\n",
            " 29  reason_3      649 non-null    float64\n",
            " 30  guardian_0    649 non-null    float64\n",
            " 31  guardian_1    649 non-null    float64\n",
            " 32  guardian_2    649 non-null    float64\n",
            " 33  sex_0         649 non-null    float64\n",
            " 34  sex_1         649 non-null    float64\n",
            " 35  address_0     649 non-null    float64\n",
            " 36  address_1     649 non-null    float64\n",
            " 37  famsize_0     649 non-null    float64\n",
            " 38  famsize_1     649 non-null    float64\n",
            " 39  Pstatus_0     649 non-null    float64\n",
            " 40  Pstatus_1     649 non-null    float64\n",
            " 41  romantic_0    649 non-null    float64\n",
            " 42  romantic_1    649 non-null    float64\n",
            " 43  internet_0    649 non-null    float64\n",
            " 44  internet_1    649 non-null    float64\n",
            " 45  schoolsup_0   649 non-null    float64\n",
            " 46  schoolsup_1   649 non-null    float64\n",
            " 47  famsup_0      649 non-null    float64\n",
            " 48  famsup_1      649 non-null    float64\n",
            " 49  paid_0        649 non-null    float64\n",
            " 50  paid_1        649 non-null    float64\n",
            " 51  activities_0  649 non-null    float64\n",
            " 52  activities_1  649 non-null    float64\n",
            " 53  nursery_0     649 non-null    float64\n",
            " 54  nursery_1     649 non-null    float64\n",
            " 55  higher_0      649 non-null    float64\n",
            " 56  higher_1      649 non-null    float64\n",
            " 57  school_0      649 non-null    float64\n",
            " 58  school_1      649 non-null    float64\n",
            "dtypes: float64(46), int64(13)\n",
            "memory usage: 299.3 KB\n",
            "None\n",
            "LiR: 0.841 (0.073)\n"
          ]
        },
        {
          "output_type": "display_data",
          "data": {
            "image/png": "[encoded data removed]",
            "text/plain": [
              "<Figure size 432x288 with 1 Axes>"
            ]
          },
          "metadata": {
            "needs_background": "light"
          }
        }
      ]
    },
    {
      "cell_type": "code",
      "source": [
        "model_comparison(\"RE_Reg\", 10, X_data, y_data)"
      ],
      "metadata": {
        "colab": {
          "base_uri": "https://localhost:8080/"
        },
        "id": "j2M2BOctwh2b",
        "outputId": "aac0934b-25a7-4eca-d8fd-deccd98d121b"
      },
      "execution_count": 22,
      "outputs": [
        {
          "output_type": "stream",
          "name": "stdout",
          "text": [
            "Ridge GridCV best score:  0.8001067257543264 GridCV best params:  {'regularized_regression__alpha': 4.0}\n",
            "r2 score:  0.865411928372094\n",
            "Las GridCV best score:  -0.17770132299852104 GridCV best params:  {'regularized_regression__alpha': 4.0}\n",
            "r2 score:  0.0\n"
          ]
        }
      ]
    },
    {
      "cell_type": "code",
      "source": [
        "model_comparison(\"RE_OT\", 10, X_data, y_data)"
      ],
      "metadata": {
        "colab": {
          "base_uri": "https://localhost:8080/",
          "height": 380
        },
        "id": "glcL94qwwjdR",
        "outputId": "22e5fa38-660f-4110-9bbc-2c72b5fe2d69"
      },
      "execution_count": 23,
      "outputs": [
        {
          "output_type": "stream",
          "name": "stdout",
          "text": [
            "ENet: -0.178 (0.206)\n",
            "KNNR: -0.019 (0.155)\n",
            "CART: 0.651 (0.097)\n",
            "SVR: 0.362 (0.163)\n"
          ]
        },
        {
          "output_type": "display_data",
          "data": {
            "image/png": "[encoded data removed]",
            "text/plain": [
              "<Figure size 432x288 with 1 Axes>"
            ]
          },
          "metadata": {
            "needs_background": "light"
          }
        }
      ]
    }
  ]
}